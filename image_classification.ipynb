{
 "cells": [
  {
   "cell_type": "code",
   "execution_count": 18,
   "id": "3aa2e603-e6a8-4113-aab2-dab6ad0d4075",
   "metadata": {
    "tags": []
   },
   "outputs": [],
   "source": [
    "import tensorflow as tf\n",
    "from tensorflow.keras.models import Sequential\n",
    "from tensorflow.keras.layers import Conv2D, MaxPooling2D, Dense, Flatten, Dropout\n",
    "from tensorflow.keras.applications import InceptionV3, ResNet50\n",
    "from tensorflow.keras.optimizers import Adam\n",
    "from tensorflow.keras.layers.experimental.preprocessing import RandomFlip, RandomRotation\n",
    "# from tensorflow.keras.applications.inception_v3 import preprocess_input\n",
    "from tensorflow.keras.applications.resnet import preprocess_input\n",
    "from tensorflow.keras.callbacks import ModelCheckpoint\n",
    "from tensorflow.keras.preprocessing import image\n",
    "from sklearn.metrics import accuracy_score, confusion_matrix, f1_score\n",
    "import numpy as np\n",
    "import matplotlib.pyplot as plt\n",
    "import seaborn as sns\n",
    "import pandas as pd\n",
    "\n",
    "import os, shutil\n"
   ]
  },
  {
   "cell_type": "code",
   "execution_count": 19,
   "id": "ce6ff5c0-777f-422f-b624-4276b8b4d8ee",
   "metadata": {
    "tags": []
   },
   "outputs": [],
   "source": [
    "gpus = tf.config.experimental.list_physical_devices('GPU')\n",
    "for gpu in gpus: \n",
    "    tf.config.experimental.set_memory_growth(gpu, True)"
   ]
  },
  {
   "cell_type": "code",
   "execution_count": 20,
   "id": "0e815104-54b1-4b2e-a693-1d50a1b737b0",
   "metadata": {
    "tags": []
   },
   "outputs": [],
   "source": [
    "path = \"./\"\n",
    "fake_images_dir = \"../../hard_hats/images/fake_hat_train_images\"\n",
    "train_dataset = \"../../hard_hats/images/train\"\n",
    "validation_dateset = \"../../hard_hats/images/validation\""
   ]
  },
  {
   "cell_type": "code",
   "execution_count": 21,
   "id": "d26e6c10-19c9-432e-8656-1fa0615974fb",
   "metadata": {
    "tags": []
   },
   "outputs": [],
   "source": [
    "data_augmentation = tf.keras.Sequential([\n",
    "    tf.keras.layers.RandomFlip('horizontal'),\n",
    "    tf.keras.layers.RandomRotation(0.2),\n",
    "])\n",
    "\n",
    "class ImageClassifier:\n",
    "    def __init__(self, img_rows, img_cols, channels=3, batch_size=64, directory=\"./\"):\n",
    "        self.img_shape = (img_rows, img_cols, channels)\n",
    "        self.batch_size = batch_size\n",
    "        self.directory = directory\n",
    "        self.classifier = self.build_classifier()\n",
    "        self.dataset = self.load_image_dataset()\n",
    "        self.accuracy = None\n",
    "\n",
    "    def build_classifier(self):\n",
    "        base_model = ResNet50(include_top=False, weights='imagenet', input_shape=self.img_shape)\n",
    "        base_model.trainable = False\n",
    "\n",
    "        model = Sequential()\n",
    "        model.add(base_model)\n",
    "        model.add(Flatten())\n",
    "        model.add(Dense(1, activation='sigmoid'))\n",
    "        optimizer = Adam(learning_rate=0.0001)\n",
    "\n",
    "        model.compile(loss='binary_crossentropy',optimizer=optimizer,metrics=['accuracy'])\n",
    "\n",
    "        return model\n",
    "    \n",
    "    def load_image_dataset(self, directory=\"\", num_images_per_category=1000, num_no_hat_images=None, include_fake=False,percentage=0.5):\n",
    "        \n",
    "        image_data = tf.keras.utils.image_dataset_from_directory(\n",
    "            directory or self.directory,\n",
    "            labels='inferred',\n",
    "            label_mode='binary',\n",
    "            seed=22,\n",
    "            image_size=(self.img_shape[0], self.img_shape[1]),\n",
    "            batch_size=self.batch_size,\n",
    "        )\n",
    "\n",
    "        # image_data = image_data.cache()\n",
    "        fake_image_data = None\n",
    "        hat_fake_image_data = None  \n",
    "        if include_fake:\n",
    "            hat_fake_image_data = tf.keras.utils.image_dataset_from_directory(fake_images_dir, labels='inferred',\n",
    "            seed=22,image_size=(self.img_shape[0], self.img_shape[1]),batch_size=self.batch_size)\n",
    "            # hat_fake_image_data = hat_fake_image_data.cache()\n",
    "            num_no_hat_images = num_images_per_category + int(percentage * num_images_per_category)\n",
    "            num_images_from_fake = int(percentage * num_images_per_category)\n",
    "\n",
    "        AUTOTUNE = tf.data.AUTOTUNE\n",
    "        if num_images_per_category:\n",
    "            image_data = image_data.unbatch()\n",
    "\n",
    "            hat = image_data.filter(lambda image, label: tf.reduce_all(tf.equal(label, 0))).take(num_images_per_category)\n",
    "            no_hat = image_data.filter(lambda image, label: tf.reduce_all(tf.equal(label, 1))).take(num_no_hat_images or num_images_per_category)\n",
    "                                       \n",
    "            \n",
    "\n",
    "            # Take percentage% from hat_fake_image_data\n",
    "            if include_fake and hat_fake_image_data:\n",
    "                hat_fake_image_data = hat_fake_image_data.unbatch().take(num_images_from_fake)\n",
    "                hat = hat.map(lambda image, label: (image, tf.cast(0, tf.int32)))\n",
    "                hat_fake_image_data = hat_fake_image_data.map(lambda image, label: (image, tf.cast(0, tf.int32)))\n",
    "                hat = hat.concatenate(hat_fake_image_data)\n",
    "\n",
    "                no_hat = no_hat.map(lambda image, label: (image, tf.cast(1, tf.int32)))\n",
    "            combined_images = no_hat.concatenate(hat).shuffle(buffer_size=20000, seed=22)\n",
    "            combined_images = combined_images.batch(self.batch_size)\n",
    "\n",
    "            image_data = combined_images.prefetch(buffer_size=AUTOTUNE)\n",
    "\n",
    "            num_hat_images = sum(1 for _ in hat)\n",
    "            num_no_hat_images = sum(1 for _ in no_hat)\n",
    "            \n",
    "            print(f\"Total images: {num_hat_images + num_no_hat_images}\")\n",
    "            print(f\"Images with hat: {num_hat_images}\")\n",
    "            print(f\"Images without hat: {num_no_hat_images}\")\n",
    "\n",
    "        return image_data\n",
    "    \n",
    "    def display_images(self, n=9):\n",
    "        dataset = self.dataset\n",
    "        plt.figure(figsize=(10, 10))\n",
    "        for images, labels in dataset.take(1):\n",
    "            for i in range(n):\n",
    "                ax = plt.subplot(3, 3, i + 1)\n",
    "                plt.imshow(images[i].numpy().astype(\"uint8\"))\n",
    "                plt.title(int(labels[i]))\n",
    "                plt.axis(\"off\")\n",
    "        plt.show()\n",
    "        \n",
    "    def load_checkpoint(self,path):\n",
    "        classifier = tf.keras.models.load_model(checkpoint_path)\n",
    "        self.classifier = classifier\n",
    "        \n",
    "    def get_gan_images(self,directory=\"../../hard_hats/training_fake_images_800\",n_images=100):\n",
    "        images = self.load_image_dataset(directory or self.directory,num_images_per_category=n_images)\n",
    "        return images\n",
    "    \n",
    "    def get_real_images(self,directory=\"\", n_images=None,include_fake=False):\n",
    "        images = self.load_image_dataset(directory,num_images_per_category=n_images,include_fake=False)\n",
    "        return images\n",
    "         \n",
    "        \n",
    "        \n",
    "    def train_classifier(self, num_epochs=10, checkpoint_dir=\"checkpoints_1\"):\n",
    "        augmented_data = self.dataset.map(\n",
    "        lambda x, y: (data_augmentation(x, training=True), y),\n",
    "        num_parallel_calls=tf.data.AUTOTUNE\n",
    "      )\n",
    "        \n",
    "        image_data = augmented_data.map(\n",
    "            lambda x, y: (preprocess_input(x), y),\n",
    "            num_parallel_calls=tf.data.AUTOTUNE\n",
    "        )\n",
    "        \n",
    "        checkpoint_path = f\"{path}/checkpoints_1/\" + \"model_epoch-{epoch:02d}.h5\"\n",
    "\n",
    "        \n",
    "        # checkpoint_callback = ModelCheckpoint(\n",
    "        #     checkpoint_path,\n",
    "        #     save_weights_only=True,\n",
    "        #     save_best_only=False,\n",
    "        #     save_freq=20,\n",
    "        # )\n",
    "\n",
    "        classifier = self.build_classifier()\n",
    "        history = classifier.fit(\n",
    "            image_data,\n",
    "            epochs=num_epochs,\n",
    "            verbose=1,\n",
    "            # callbacks=[checkpoint_callback],  \n",
    "        )\n",
    "        \n",
    "        history_df  = pd.DataFrame(history.history['loss'])\n",
    "        history_df.to_csv(f\"{path}/training_loss.csv\", index=False)\n",
    "        self.accuracy = history.history['accuracy']\n",
    "        \n",
    "        validation_data = self.get_real_images(directory=validation_dateset,n_images=None, include_fake=True)\n",
    "    \n",
    "        v = self.validate_classifier(classifier,validation_data)\n",
    "        \n",
    "        return classifier, history\n",
    "    \n",
    "    def validate_classifier(self, classifier,validation_data):\n",
    "\n",
    "        y_true = []\n",
    "        for batch in validation_data:\n",
    "            _, labels = batch  \n",
    "            y_true.append(labels)\n",
    "\n",
    "        y_true = np.concatenate(y_true, axis=0)\n",
    "        \n",
    "        y_pred = classifier.predict(validation_data)  # Predicted labels\n",
    "\n",
    "        # Calculate accuracy\n",
    "        accuracy = accuracy_score(y_true.flatten(), y_pred.round().flatten())\n",
    "\n",
    "        # Calculate F1 score\n",
    "        f1 = f1_score(y_true.flatten(), y_pred.round().flatten(), average='weighted') \n",
    "        \n",
    "        # metric = tf.keras.metrics.F1Score(threshold=0.5)\n",
    "        # metric.update_state(y_true, y_pred)\n",
    "        # result = metric.result()\n",
    "        # result.numpy()\n",
    "\n",
    "\n",
    "        cm = tf.math.confusion_matrix(y_true.flatten(), y_pred.round().flatten())\n",
    "        \n",
    "        class_labels = ['hat', 'no hat']\n",
    "        fig, ax = plt.subplots(figsize=(8, 4))\n",
    "        sns.barplot(x=[\"Accuracy\", \"F1 Score\"], y=[accuracy, f1], ax=ax)\n",
    "        ax.set_title(\"Accuracy and F1 Score\")\n",
    "        plt.savefig(f\"{path}/accuracy_f1.png\")\n",
    "        \n",
    "        plt.figure(figsize=(8, 6))\n",
    "        sns.heatmap(cm, annot=True, fmt=\"d\", cmap=\"Blues\", cbar=False, xticklabels=class_labels, yticklabels=class_labels)\n",
    "        plt.xlabel(\"Predicted Labels\")\n",
    "        plt.ylabel(\"True Labels\")\n",
    "        plt.title(\"Confusion Matrix\")\n",
    "        plt.savefig(f\"{path}/confusion_matrix.png\")\n",
    "        \n",
    "        return accuracy,f1,cm\n",
    "    \n",
    "    def predict_image(self,image_path='../hard_hats/val/000092.jpg'):\n",
    "        img = Image.open(image_path)\n",
    "        resize = tf.image.resize(img, (299,299))\n",
    "        plt.imshow(resize.numpy().astype(int))\n",
    "        plt.show()\n",
    "        img = image.load_img(image_path, target_size=(299, 299))\n",
    "        img = image.img_to_array(img)\n",
    "        img = preprocess_input(img)\n",
    "        img = np.expand_dims(img, axis=0)\n",
    "        prediction = self.classifier.predict(img)\n",
    "        print(prediction)\n",
    "        return prediction\n",
    "\n",
    "        \n",
    "        \n",
    "    "
   ]
  },
  {
   "cell_type": "code",
   "execution_count": 22,
   "id": "5e5018d5-9647-4ce1-8ae1-ef8b524e3791",
   "metadata": {
    "tags": []
   },
   "outputs": [
    {
     "name": "stdout",
     "output_type": "stream",
     "text": [
      "ipynb_checkpoints FileNotFound\n"
     ]
    }
   ],
   "source": [
    "try:\n",
    "\n",
    "    shutil.rmtree(f\"{fake_images_dir}/.ipynb_checkpoints\")\n",
    "except FileNotFoundError:\n",
    "    print(\"ipynb_checkpoints FileNotFound\")"
   ]
  },
  {
   "cell_type": "code",
   "execution_count": 23,
   "id": "6cd2af54-13d0-466a-b237-a71fd3b49385",
   "metadata": {
    "tags": []
   },
   "outputs": [
    {
     "name": "stdout",
     "output_type": "stream",
     "text": [
      "Downloading data from https://storage.googleapis.com/tensorflow/keras-applications/resnet/resnet50_weights_tf_dim_ordering_tf_kernels_notop.h5\n",
      "94765736/94765736 [==============================] - 2s 0us/step\n",
      "Found 9246 files belonging to 2 classes.\n",
      "Total images: 2000\n",
      "Images with hat: 1000\n",
      "Images without hat: 1000\n"
     ]
    }
   ],
   "source": [
    "imageclassifier = ImageClassifier(224, 224, 3, batch_size=32, directory=train_dataset)"
   ]
  },
  {
   "cell_type": "code",
   "execution_count": null,
   "id": "0dd1c720-41e2-4405-aad5-76ff88491570",
   "metadata": {
    "tags": []
   },
   "outputs": [],
   "source": [
    "imageclassifier.display_images()"
   ]
  },
  {
   "cell_type": "code",
   "execution_count": 24,
   "id": "bbf50f63-b7bb-4eb0-905d-e0f68ab5fbb4",
   "metadata": {
    "tags": []
   },
   "outputs": [
    {
     "name": "stdout",
     "output_type": "stream",
     "text": [
      "WARNING:tensorflow:Using a while_loop for converting RngReadAndSkip cause there is no registered converter for this op.\n",
      "WARNING:tensorflow:Using a while_loop for converting Bitcast cause there is no registered converter for this op.\n",
      "WARNING:tensorflow:Using a while_loop for converting Bitcast cause there is no registered converter for this op.\n",
      "WARNING:tensorflow:Using a while_loop for converting StatelessRandomUniformV2 cause there is no registered converter for this op.\n",
      "WARNING:tensorflow:Using a while_loop for converting ImageProjectiveTransformV3 cause there is no registered converter for this op.\n",
      "WARNING:tensorflow:Using a while_loop for converting RngReadAndSkip cause there is no registered converter for this op.\n",
      "WARNING:tensorflow:Using a while_loop for converting Bitcast cause there is no registered converter for this op.\n",
      "WARNING:tensorflow:Using a while_loop for converting Bitcast cause there is no registered converter for this op.\n",
      "WARNING:tensorflow:Using a while_loop for converting StatelessRandomUniformV2 cause there is no registered converter for this op.\n",
      "WARNING:tensorflow:Using a while_loop for converting ImageProjectiveTransformV3 cause there is no registered converter for this op.\n",
      "63/63 [==============================] - 183s 3s/step - loss: 0.4289 - accuracy: 0.8500\n",
      "Found 2060 files belonging to 2 classes.\n",
      "65/65 [==============================] - 172s 3s/step\n"
     ]
    },
    {
     "data": {
      "image/png": "[encoded data removed]",
      "text/plain": [
       "<Figure size 800x400 with 1 Axes>"
      ]
     },
     "metadata": {},
     "output_type": "display_data"
    },
    {
     "data": {
      "image/png": "[encoded data removed]",
      "text/plain": [
       "<Figure size 800x600 with 1 Axes>"
      ]
     },
     "metadata": {},
     "output_type": "display_data"
    }
   ],
   "source": [
    "trained_classifier, training_history = imageclassifier.train_classifier(num_epochs=1)"
   ]
  },
  {
   "cell_type": "code",
   "execution_count": null,
   "id": "2bef2b35-be49-41f5-bd1d-e287b05531ac",
   "metadata": {
    "tags": []
   },
   "outputs": [],
   "source": []
  },
  {
   "cell_type": "code",
   "execution_count": 36,
   "id": "530e6b8b-7a1b-4249-a91d-7b753e77f02d",
   "metadata": {
    "tags": []
   },
   "outputs": [],
   "source": [
    "image_path='../../hard_hats/images/test/001135.jpg'\n",
    "img = image.load_img(image_path, target_size=(224, 224))\n",
    "img = image.img_to_array(img)\n",
    "img = preprocess_input(img)\n",
    "img = np.expand_dims(img, axis=0)"
   ]
  },
  {
   "cell_type": "code",
   "execution_count": 37,
   "id": "5101d605-3d5c-47aa-b72e-5d6e73c84b51",
   "metadata": {
    "tags": []
   },
   "outputs": [
    {
     "name": "stdout",
     "output_type": "stream",
     "text": [
      "1/1 [==============================] - 0s 180ms/step\n"
     ]
    },
    {
     "data": {
      "text/plain": [
       "'No Hard Hat'"
      ]
     },
     "execution_count": 37,
     "metadata": {},
     "output_type": "execute_result"
    }
   ],
   "source": [
    "predictions = trained_classifier.predict(img)\n",
    "class_names = ['Hard Hat', 'No Hard Hat'] \n",
    "class_names[int(predictions[0, 0] > 0.5)]"
   ]
  },
  {
   "cell_type": "code",
   "execution_count": 56,
   "id": "8db7af28-4acf-4d08-b060-7a693fe37d0a",
   "metadata": {
    "tags": []
   },
   "outputs": [],
   "source": [
    "predicted_class = class_names[int(predictions[0, 0] > 0.5)]"
   ]
  },
  {
   "cell_type": "code",
   "execution_count": 28,
   "id": "2a3126e5-83fd-4a99-9bc6-bd5c738ee378",
   "metadata": {
    "tags": []
   },
   "outputs": [],
   "source": []
  },
  {
   "cell_type": "code",
   "execution_count": 29,
   "id": "3a84dc4e-4a58-4bde-8af8-32691c30e04c",
   "metadata": {
    "tags": []
   },
   "outputs": [
    {
     "data": {
      "text/plain": [
       "'Hard Hat'"
      ]
     },
     "execution_count": 29,
     "metadata": {},
     "output_type": "execute_result"
    }
   ],
   "source": [
    "predicted_class"
   ]
  },
  {
   "cell_type": "code",
   "execution_count": 32,
   "id": "12533aa8-bc00-4502-8f2b-5cd654f40014",
   "metadata": {
    "tags": []
   },
   "outputs": [
    {
     "data": {
      "text/plain": [
       "2.0837906e-06"
      ]
     },
     "execution_count": 32,
     "metadata": {},
     "output_type": "execute_result"
    }
   ],
   "source": [
    "predictions[0, 0]"
   ]
  },
  {
   "cell_type": "code",
   "execution_count": 33,
   "id": "9b20588a-9195-4802-92f0-93b6620b9bfb",
   "metadata": {
    "tags": []
   },
   "outputs": [
    {
     "data": {
      "text/plain": [
       "False"
      ]
     },
     "execution_count": 33,
     "metadata": {},
     "output_type": "execute_result"
    }
   ],
   "source": [
    "2.0837906e-06 > 1"
   ]
  },
  {
   "cell_type": "code",
   "execution_count": 56,
   "id": "642a96ff-4cc6-47f6-9326-186c60835018",
   "metadata": {
    "tags": []
   },
   "outputs": [],
   "source": [
    "    try:\n",
    "\n",
    "        shutil.rmtree(\"../hard_hats/validation/.ipynb_checkpoints\")\n",
    "    except FileNotFoundError:\n",
    "        print(\"ipynb_checkpoints FileNotFound\")"
   ]
  },
  {
   "cell_type": "code",
   "execution_count": 115,
   "id": "cbfd0a61-1d54-4f73-9f59-be3eb5b794e2",
   "metadata": {
    "tags": []
   },
   "outputs": [],
   "source": [
    "dataset = tf.data.Dataset.range(100).batch(32)"
   ]
  },
  {
   "cell_type": "code",
   "execution_count": 116,
   "id": "2bfa2ac9-3a58-40fd-8a5a-2f52011c4d8f",
   "metadata": {
    "tags": []
   },
   "outputs": [
    {
     "data": {
      "text/plain": [
       "<BatchDataset element_spec=TensorSpec(shape=(None,), dtype=tf.int64, name=None)>"
      ]
     },
     "execution_count": 116,
     "metadata": {},
     "output_type": "execute_result"
    }
   ],
   "source": [
    "dataset"
   ]
  },
  {
   "cell_type": "code",
   "execution_count": 117,
   "id": "1864fe63-1ddf-42d5-a536-0624e93234fb",
   "metadata": {
    "tags": []
   },
   "outputs": [],
   "source": [
    "taken_batches = dataset.take(3)"
   ]
  },
  {
   "cell_type": "code",
   "execution_count": 123,
   "id": "d36d1917-de7b-4642-bf13-ee81b93a63d3",
   "metadata": {
    "tags": []
   },
   "outputs": [],
   "source": [
    "g =taken_batches.unbatch().take(3)"
   ]
  },
  {
   "cell_type": "code",
   "execution_count": 124,
   "id": "2ca5a961-0d1a-4156-94be-a75136e1e90a",
   "metadata": {
    "tags": []
   },
   "outputs": [
    {
     "name": "stdout",
     "output_type": "stream",
     "text": [
      "tf.Tensor(0, shape=(), dtype=int64)\n",
      "tf.Tensor(1, shape=(), dtype=int64)\n",
      "tf.Tensor(2, shape=(), dtype=int64)\n"
     ]
    }
   ],
   "source": [
    "for i in g:\n",
    "    print(i)"
   ]
  },
  {
   "cell_type": "code",
   "execution_count": null,
   "id": "e3d94321-c7a3-4097-8659-4668179b0017",
   "metadata": {},
   "outputs": [],
   "source": [
    "g"
   ]
  }
 ],
 "metadata": {
  "kernelspec": {
   "display_name": "default:Python",
   "language": "python",
   "name": "conda-env-default-py"
  },
  "language_info": {
   "codemirror_mode": {
    "name": "ipython",
    "version": 3
   },
   "file_extension": ".py",
   "mimetype": "text/x-python",
   "name": "python",
   "nbconvert_exporter": "python",
   "pygments_lexer": "ipython3",
   "version": "3.9.16"
  }
 },
 "nbformat": 4,
 "nbformat_minor": 5
}
